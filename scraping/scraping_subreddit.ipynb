{
 "cells": [
  {
   "cell_type": "code",
   "execution_count": 1,
   "metadata": {},
   "outputs": [],
   "source": [
    "import praw\n",
    "from prawcore.exceptions import RequestException, ResponseException, OAuthException\n",
    "import pandas as pd\n",
    "import time"
   ]
  },
  {
   "cell_type": "code",
   "execution_count": 2,
   "metadata": {},
   "outputs": [],
   "source": [
    "reddit = praw.Reddit(client_id ='zWndV5hUJ8XZYshw1V9axw',\n",
    "                     client_secret ='4ovj54M6J9s4yS6alG7c58jKOa3TQA',\n",
    "                     user_agent ='my user agent')"
   ]
  },
  {
   "cell_type": "code",
   "execution_count": 8,
   "metadata": {},
   "outputs": [
    {
     "name": "stdout",
     "output_type": "stream",
     "text": [
      "scraping of 10,000 posts from schizophrenia subreddit completed successfully🤍\n",
      "scraping of 10,000 posts from bipolar subreddit completed successfully🤍\n"
     ]
    }
   ],
   "source": [
    "sub = ['schizophrenia', 'bipolar']\n",
    "\n",
    "for x in sub:\n",
    "    subreddit = reddit.subreddit(x)\n",
    "    posts = []\n",
    "    count = 0\n",
    "\n",
    "    while count < 10000:\n",
    "        try:\n",
    "            for submission in subreddit.new(limit=None):\n",
    "                posts.append({\n",
    "                    \"id\": submission.id,\n",
    "                    \"title\": submission.title,\n",
    "                    \"text\": submission.selftext,\n",
    "                    \"url\": submission.url,\n",
    "                    \"date\": submission.created_utc,\n",
    "                    \"upvotes\": submission.score,\n",
    "                    \"upvote_ratio\": submission.upvote_ratio\n",
    "                })\n",
    "                count += 1\n",
    "                if count == 10000:\n",
    "                    print(f'scraping of 10,000 posts from {x} subreddit completed successfully🤍')\n",
    "                    break\n",
    "        except (RequestException, OAuthException, ResponseException) as e:\n",
    "            print(f\"An error occurred: {e}\")\n",
    "            print(\"Sleeping for 60 seconds before trying again.\")\n",
    "            time.sleep(60)\n",
    "\n",
    "    df = pd.DataFrame(posts)\n",
    "    df.to_csv(f'{x}.csv')"
   ]
  }
 ],
 "metadata": {
  "kernelspec": {
   "display_name": "base",
   "language": "python",
   "name": "python3"
  },
  "language_info": {
   "codemirror_mode": {
    "name": "ipython",
    "version": 3
   },
   "file_extension": ".py",
   "mimetype": "text/x-python",
   "name": "python",
   "nbconvert_exporter": "python",
   "pygments_lexer": "ipython3",
   "version": "3.10.9"
  },
  "orig_nbformat": 4
 },
 "nbformat": 4,
 "nbformat_minor": 2
}
