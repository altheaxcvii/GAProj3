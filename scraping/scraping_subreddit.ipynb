{
 "cells": [
  {
   "cell_type": "code",
   "execution_count": 1,
   "metadata": {},
   "outputs": [],
   "source": [
    "import praw\n",
    "import pandas as pd"
   ]
  },
  {
   "cell_type": "code",
   "execution_count": 2,
   "metadata": {},
   "outputs": [],
   "source": [
    "reddit = praw.Reddit(client_id ='zWndV5hUJ8XZYshw1V9axw',\n",
    "                     client_secret ='4ovj54M6J9s4yS6alG7c58jKOa3TQA',\n",
    "                     user_agent ='my user agent')"
   ]
  },
  {
   "cell_type": "code",
   "execution_count": 3,
   "metadata": {},
   "outputs": [],
   "source": [
    "subs = ['bipolar', 'schizophrenia']\n",
    "submissions_types = ['hot', 'controversial', 'new', 'rising', 'top']"
   ]
  },
  {
   "cell_type": "code",
   "execution_count": 4,
   "metadata": {},
   "outputs": [
    {
     "name": "stdout",
     "output_type": "stream",
     "text": [
      "(Hot posts from bipolar subreddit scraped\n",
      "(Controversial posts from bipolar subreddit scraped\n",
      "(New posts from bipolar subreddit scraped\n",
      "(Rising posts from bipolar subreddit scraped\n",
      "(Top posts from bipolar subreddit scraped\n",
      "(Hot posts from schizophrenia subreddit scraped\n",
      "(Controversial posts from schizophrenia subreddit scraped\n",
      "(New posts from schizophrenia subreddit scraped\n",
      "(Rising posts from schizophrenia subreddit scraped\n",
      "(Top posts from schizophrenia subreddit scraped\n"
     ]
    }
   ],
   "source": [
    "for x in subs:\n",
    "    posts = []\n",
    "    subreddit = reddit.subreddit(x)\n",
    "\n",
    "    for submission_type in submissions_types:\n",
    "        submission_generator = getattr(subreddit, submission_type)(limit=1000)\n",
    "        posts.extend([[submission.id, submission.title, submission.selftext, submission.score] for submission in submission_generator])\n",
    "        print(f'{submission_type.capitalize()} posts from {x} subreddit scraped')\n",
    "\n",
    "    df = pd.DataFrame(posts, columns=['id', 'title', 'text', 'score'])\n",
    "    df.to_csv(f'{x}.csv')"
   ]
  }
 ],
 "metadata": {
  "kernelspec": {
   "display_name": "base",
   "language": "python",
   "name": "python3"
  },
  "language_info": {
   "codemirror_mode": {
    "name": "ipython",
    "version": 3
   },
   "file_extension": ".py",
   "mimetype": "text/x-python",
   "name": "python",
   "nbconvert_exporter": "python",
   "pygments_lexer": "ipython3",
   "version": "3.10.9"
  },
  "orig_nbformat": 4
 },
 "nbformat": 4,
 "nbformat_minor": 2
}
